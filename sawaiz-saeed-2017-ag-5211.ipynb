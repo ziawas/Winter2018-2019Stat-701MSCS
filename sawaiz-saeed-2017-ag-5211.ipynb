{
 "cells": [
  {
   "cell_type": "code",
   "execution_count": 1,
   "metadata": {},
   "outputs": [
    {
     "name": "stdout",
     "output_type": "stream",
     "text": [
      "x1=\n",
      "[100, 200, 300, 400, 500, 600, 700]\n",
      "x2=\n",
      "[10, 20, 10, 30, 20, 20, 30]\n",
      "y=\n",
      "[40, 50, 50, 70, 65, 65, 80]\n"
     ]
    }
   ],
   "source": [
    "import math \n",
    "x1=[100,200,300,400,500,600,700]\n",
    "print(\"x1=\")\n",
    "print(x1)\n",
    "x2=[10,20,10,30,20,20,30]\n",
    "print(\"x2=\")\n",
    "print(x2)\n",
    "y=[40,50,50,70,65,65,80]\n",
    "print(\"y=\")\n",
    "print(y)"
   ]
  },
  {
   "cell_type": "code",
   "execution_count": 2,
   "metadata": {},
   "outputs": [
    {
     "name": "stdout",
     "output_type": "stream",
     "text": [
      "sum of x1\n",
      "2800\n"
     ]
    }
   ],
   "source": [
    "# sum of x1\n",
    "a=0\n",
    "for element in x1:\n",
    "    a=a+element\n",
    "print(\"sum of x1\")\n",
    "print(a)"
   ]
  },
  {
   "cell_type": "code",
   "execution_count": 3,
   "metadata": {},
   "outputs": [
    {
     "name": "stdout",
     "output_type": "stream",
     "text": [
      "mean of x1=\n",
      "400.0\n"
     ]
    }
   ],
   "source": [
    "# mean of x1\n",
    "n=7\n",
    "print(\"mean of x1=\")\n",
    "mx1=a/n\n",
    "print(mx1)"
   ]
  },
  {
   "cell_type": "code",
   "execution_count": 4,
   "metadata": {},
   "outputs": [
    {
     "name": "stdout",
     "output_type": "stream",
     "text": [
      "sum of x2=\n",
      "140\n"
     ]
    }
   ],
   "source": [
    "# sum of x2\n",
    "b=0\n",
    "for element in x2:\n",
    "    b=b+element\n",
    "print(\"sum of x2=\")\n",
    "print(b)"
   ]
  },
  {
   "cell_type": "code",
   "execution_count": 5,
   "metadata": {},
   "outputs": [
    {
     "name": "stdout",
     "output_type": "stream",
     "text": [
      "mean of x2=\n",
      "20.0\n"
     ]
    }
   ],
   "source": [
    "# mean of x2\n",
    "print(\"mean of x2=\")\n",
    "mx2=b/n\n",
    "print(mx2)"
   ]
  },
  {
   "cell_type": "code",
   "execution_count": 6,
   "metadata": {},
   "outputs": [
    {
     "name": "stdout",
     "output_type": "stream",
     "text": [
      "sum of y=\n",
      "420\n"
     ]
    }
   ],
   "source": [
    "# sum of y\n",
    "c=0\n",
    "for element in y:\n",
    "    c=c+element\n",
    "print(\"sum of y=\")\n",
    "print(c)"
   ]
  },
  {
   "cell_type": "code",
   "execution_count": 7,
   "metadata": {},
   "outputs": [
    {
     "name": "stdout",
     "output_type": "stream",
     "text": [
      "mean of y=\n",
      "60.0\n"
     ]
    }
   ],
   "source": [
    "# mean of y\n",
    "print(\"mean of y=\")\n",
    "my=c/n\n",
    "print(my)"
   ]
  },
  {
   "cell_type": "code",
   "execution_count": 8,
   "metadata": {},
   "outputs": [
    {
     "name": "stdout",
     "output_type": "stream",
     "text": [
      "square of x1=\n",
      "1400000\n"
     ]
    }
   ],
   "source": [
    "# square of x1\n",
    "d=0\n",
    "for element in x1:\n",
    "    d=d+element**2\n",
    "print(\"square of x1=\")\n",
    "print(d)"
   ]
  },
  {
   "cell_type": "code",
   "execution_count": 9,
   "metadata": {},
   "outputs": [
    {
     "name": "stdout",
     "output_type": "stream",
     "text": [
      "square of x2=\n",
      "3200\n"
     ]
    }
   ],
   "source": [
    "# square of x2\n",
    "e=0\n",
    "for element in x2:\n",
    "    e=e+element**2\n",
    "print(\"square of x2=\")\n",
    "print(e)"
   ]
  },
  {
   "cell_type": "code",
   "execution_count": 10,
   "metadata": {},
   "outputs": [
    {
     "name": "stdout",
     "output_type": "stream",
     "text": [
      "square of y=\n",
      "26350\n"
     ]
    }
   ],
   "source": [
    "# sqaure of y\n",
    "f=0\n",
    "for element in y:\n",
    "    f=f+element**2\n",
    "print(\"square of y=\")\n",
    "print(f)"
   ]
  },
  {
   "cell_type": "code",
   "execution_count": 11,
   "metadata": {},
   "outputs": [
    {
     "name": "stdout",
     "output_type": "stream",
     "text": [
      "x1x2=\n",
      "63000\n"
     ]
    }
   ],
   "source": [
    "# find x1x2\n",
    "g=0\n",
    "i=0\n",
    "for element in x1:\n",
    "    g=g+element*x2[i]\n",
    "    i+=1\n",
    "print(\"x1x2=\")\n",
    "print(g)"
   ]
  },
  {
   "cell_type": "code",
   "execution_count": 12,
   "metadata": {},
   "outputs": [
    {
     "name": "stdout",
     "output_type": "stream",
     "text": [
      "x1^2 x2^2=\n",
      "855000000\n"
     ]
    }
   ],
   "source": [
    "# find x1^2x2^2\n",
    "h=0\n",
    "i=0\n",
    "for element in x2:\n",
    "    h=h+element**2*(x1[i])**2\n",
    "    i+=1\n",
    "print(\"x1^2 x2^2=\")\n",
    "print(h)"
   ]
  },
  {
   "cell_type": "code",
   "execution_count": 13,
   "metadata": {},
   "outputs": [
    {
     "name": "stdout",
     "output_type": "stream",
     "text": [
      "x1y=\n",
      "184500\n"
     ]
    }
   ],
   "source": [
    "# find x1y\n",
    "j=0\n",
    "i=0\n",
    "for element in x1:\n",
    "    j=j+element*y[i]\n",
    "    i+=1\n",
    "print(\"x1y=\")\n",
    "print(j)"
   ]
  },
  {
   "cell_type": "code",
   "execution_count": 14,
   "metadata": {},
   "outputs": [
    {
     "name": "stdout",
     "output_type": "stream",
     "text": [
      "x2y=\n",
      "9000\n"
     ]
    }
   ],
   "source": [
    "# find x2y\n",
    "k=0\n",
    "i=0\n",
    "for element in x2:\n",
    "    k=k+element*y[i]\n",
    "    i+=1\n",
    "print(\"x2y=\")\n",
    "print(k)"
   ]
  },
  {
   "cell_type": "code",
   "execution_count": 15,
   "metadata": {},
   "outputs": [],
   "source": [
    "# b1 = sx2 sx1y - sx1x2 sx2y / sx1^2 sx2^2 - (sx1x2)^2"
   ]
  },
  {
   "cell_type": "code",
   "execution_count": 16,
   "metadata": {},
   "outputs": [
    {
     "name": "stdout",
     "output_type": "stream",
     "text": [
      "(mean of x2)^2=\n",
      "400.0\n",
      "n-(mean of x2)^2=\n",
      "2800.0\n",
      "sx2^2 = x2^2 - n(mean of x2)^2 =\n",
      "400.0\n"
     ]
    }
   ],
   "source": [
    "# sx2^2 = x2^2 - n(mean of x2)^2\n",
    "l=(b/n)**2\n",
    "print(\"(mean of x2)^2=\")\n",
    "print(l)\n",
    "m=n*l\n",
    "print(\"n-(mean of x2)^2=\")\n",
    "print(m)\n",
    "o=e-m\n",
    "print(\"sx2^2 = x2^2 - n(mean of x2)^2 =\")\n",
    "print(o)"
   ]
  },
  {
   "cell_type": "code",
   "execution_count": 17,
   "metadata": {},
   "outputs": [
    {
     "name": "stdout",
     "output_type": "stream",
     "text": [
      "(mean of x1)(mean of y)=\n",
      "24000.0\n",
      "n(mean of x1)(mean of y)=\n",
      "168000.0\n",
      "sx1y = x1y - n(mean of x1)(mean of y) =\n",
      "16500.0\n"
     ]
    }
   ],
   "source": [
    "# sx1y = x1y - n(mean of x1)(mean of y)\n",
    "p=(mx1*my)\n",
    "print(\"(mean of x1)(mean of y)=\")\n",
    "print(p)\n",
    "q=n*p\n",
    "print(\"n(mean of x1)(mean of y)=\")\n",
    "print(q)\n",
    "r=j-q\n",
    "print(\"sx1y = x1y - n(mean of x1)(mean of y) =\")\n",
    "print(r)"
   ]
  },
  {
   "cell_type": "code",
   "execution_count": 18,
   "metadata": {},
   "outputs": [
    {
     "name": "stdout",
     "output_type": "stream",
     "text": [
      "(mean of x1)(mean of x2)=\n",
      "8000.0\n",
      "n(mean of x1)(mean of x2)=\n",
      "56000.0\n",
      "sx1x2 = x1x2 - n(mean of x1)(mean of x2)=\n",
      "7000.0\n"
     ]
    }
   ],
   "source": [
    "# sx1x2 = x1x2 - n(mean of x1)(mean of x2)\n",
    "s=mx1*mx2\n",
    "print(\"(mean of x1)(mean of x2)=\")\n",
    "print(s)\n",
    "t=n*s\n",
    "print(\"n(mean of x1)(mean of x2)=\")\n",
    "print(t)\n",
    "u=g-t\n",
    "print(\"sx1x2 = x1x2 - n(mean of x1)(mean of x2)=\")\n",
    "print(u)"
   ]
  },
  {
   "cell_type": "code",
   "execution_count": 19,
   "metadata": {},
   "outputs": [
    {
     "name": "stdout",
     "output_type": "stream",
     "text": [
      "(mean of x2)(mean of y)=\n",
      "1200.0\n",
      "n(mean of x2)(mean of y)=\n",
      "8400.0\n",
      "sx2y = x2y - n(mean of x2)(mean of y)=\n",
      "600.0\n"
     ]
    }
   ],
   "source": [
    "# sx2y = x2y - n(mean of x2)(mean of y)\n",
    "w=mx2*my\n",
    "print(\"(mean of x2)(mean of y)=\")\n",
    "print(w)\n",
    "y=n*w\n",
    "print(\"n(mean of x2)(mean of y)=\")\n",
    "print(y)\n",
    "z=k-y\n",
    "print(\"sx2y = x2y - n(mean of x2)(mean of y)=\")\n",
    "print(z)"
   ]
  },
  {
   "cell_type": "code",
   "execution_count": 20,
   "metadata": {},
   "outputs": [
    {
     "name": "stdout",
     "output_type": "stream",
     "text": [
      "(mean of x1)^2=\n",
      "160000.0\n",
      "n(mean of x1)^2\n",
      "1120000.0\n",
      "sx1^2 = x1^2 - n(mean of x1)^2=\n",
      "280000.0\n"
     ]
    }
   ],
   "source": [
    "# sx1^2 = x1^2 - n(mean of x1)^2\n",
    "ab=mx1**2\n",
    "print(\"(mean of x1)^2=\")\n",
    "print(ab)\n",
    "bc=n*ab\n",
    "print(\"n(mean of x1)^2\")\n",
    "print(bc)\n",
    "cd=d-bc\n",
    "print(\"sx1^2 = x1^2 - n(mean of x1)^2=\")\n",
    "print(cd)"
   ]
  },
  {
   "cell_type": "code",
   "execution_count": 21,
   "metadata": {},
   "outputs": [
    {
     "name": "stdout",
     "output_type": "stream",
     "text": [
      "b1=\n",
      "0.0005416384563303995\n"
     ]
    }
   ],
   "source": [
    "# find b1\n",
    "de=o*r\n",
    "ef=u*z\n",
    "fg=de-ef\n",
    "gh=d*e\n",
    "hi=u**2\n",
    "ij=gh-hi\n",
    "b1=fg/ij\n",
    "print(\"b1=\")\n",
    "print(b1)"
   ]
  },
  {
   "cell_type": "code",
   "execution_count": 22,
   "metadata": {},
   "outputs": [],
   "source": [
    "# b2 = sx1^2 sx2y - sx1x2 sx1y / sx1^2 sx2^2 - [sx1x2]^2"
   ]
  },
  {
   "cell_type": "code",
   "execution_count": 23,
   "metadata": {},
   "outputs": [
    {
     "name": "stdout",
     "output_type": "stream",
     "text": [
      "b2=\n",
      "0.16350710900473933\n"
     ]
    }
   ],
   "source": [
    "# find b2\n",
    "kl=d*z\n",
    "lm=u*r\n",
    "mn=kl-lm\n",
    "no=d*e\n",
    "op=u**2\n",
    "pu=no-op\n",
    "b2=mn/pu\n",
    "print(\"b2=\")\n",
    "print(b2)"
   ]
  },
  {
   "cell_type": "code",
   "execution_count": 24,
   "metadata": {},
   "outputs": [],
   "source": [
    "# b0 = (mean of y)-b1(mean of x1)-b2(mean of x2)"
   ]
  },
  {
   "cell_type": "code",
   "execution_count": 28,
   "metadata": {},
   "outputs": [
    {
     "name": "stdout",
     "output_type": "stream",
     "text": [
      "b0=\n",
      "56.51320243737305\n"
     ]
    }
   ],
   "source": [
    "# find b0\n",
    "bx=b1*mx1\n",
    "bx2=b2*mx2\n",
    "b0=my-bx-bx2\n",
    "print(\"b0=\")\n",
    "print(b0)"
   ]
  },
  {
   "cell_type": "code",
   "execution_count": 29,
   "metadata": {},
   "outputs": [],
   "source": [
    "# y^ = b0+b1x1+b2x2"
   ]
  },
  {
   "cell_type": "code",
   "execution_count": 30,
   "metadata": {},
   "outputs": [
    {
     "name": "stdout",
     "output_type": "stream",
     "text": [
      "y^=\n",
      "56.51320243737305\n",
      "+\n",
      "0.0005416384563303995\n",
      "x1\n",
      "+\n",
      "0.16350710900473933\n",
      "x2\n"
     ]
    }
   ],
   "source": [
    "# find y^\n",
    "print(\"y^=\")\n",
    "print(b0)\n",
    "print(\"+\")\n",
    "print(b1)\n",
    "print(\"x1\")\n",
    "print(\"+\")\n",
    "print(b2)\n",
    "print(\"x2\")"
   ]
  },
  {
   "cell_type": "code",
   "execution_count": 31,
   "metadata": {},
   "outputs": [
    {
     "name": "stdout",
     "output_type": "stream",
     "text": [
      "y^=\n",
      "80.92078537576168\n"
     ]
    }
   ],
   "source": [
    "b1x=b1*a\n",
    "b2x=b2*b\n",
    "yb=b0+b1x+b2x\n",
    "print(\"y^=\")\n",
    "print(yb)"
   ]
  },
  {
   "cell_type": "code",
   "execution_count": 32,
   "metadata": {},
   "outputs": [],
   "source": [
    "# coefficient"
   ]
  },
  {
   "cell_type": "code",
   "execution_count": 33,
   "metadata": {},
   "outputs": [
    {
     "name": "stdout",
     "output_type": "stream",
     "text": [
      "tss=\n",
      "129600.0\n"
     ]
    }
   ],
   "source": [
    "# tss = (y - mean of y)^2\n",
    "m2=c-my\n",
    "tss=m2**2\n",
    "print(\"tss=\")\n",
    "print(tss)"
   ]
  },
  {
   "cell_type": "code",
   "execution_count": 34,
   "metadata": {},
   "outputs": [
    {
     "name": "stdout",
     "output_type": "stream",
     "text": [
      "rss=\n",
      "114974.7137901903\n"
     ]
    }
   ],
   "source": [
    "# rss = (y-y^)^2\n",
    "# rss = (y-b0-b1x1-b2x2)^2\n",
    "ss=c-b0-b1x-b2x\n",
    "rss=ss**2\n",
    "print(\"rss=\")\n",
    "print(rss)"
   ]
  },
  {
   "cell_type": "code",
   "execution_count": 35,
   "metadata": {},
   "outputs": [
    {
     "name": "stdout",
     "output_type": "stream",
     "text": [
      "mss=\n",
      "437.67926073868387\n"
     ]
    }
   ],
   "source": [
    "# mss = (y^ - mean of y)^2\n",
    "model=yb-my\n",
    "mss=model**2\n",
    "print(\"mss=\")\n",
    "print(mss)"
   ]
  },
  {
   "cell_type": "code",
   "execution_count": 36,
   "metadata": {},
   "outputs": [
    {
     "name": "stdout",
     "output_type": "stream",
     "text": [
      "ess=\n",
      "14625.286209809696\n"
     ]
    }
   ],
   "source": [
    "# sse = tss - rss\n",
    "ess=tss-rss\n",
    "print(\"ess=\")\n",
    "print(ess)"
   ]
  },
  {
   "cell_type": "code",
   "execution_count": 37,
   "metadata": {},
   "outputs": [
    {
     "name": "stdout",
     "output_type": "stream",
     "text": [
      "r^2=\n",
      "0.33771547896503384\n"
     ]
    }
   ],
   "source": [
    "# r^2 = rss / tss *100\n",
    "r2=(mss/tss)*100\n",
    "print(\"r^2=\")\n",
    "print(r2)"
   ]
  },
  {
   "cell_type": "code",
   "execution_count": 38,
   "metadata": {},
   "outputs": [
    {
     "name": "stdout",
     "output_type": "stream",
     "text": [
      "r^2adj=\n",
      "-0.3245690420699323\n"
     ]
    }
   ],
   "source": [
    "# r^2adj = 1-(n-1/n-1-k)(1-r^2)\n",
    "k=3\n",
    "reg2=1-r2\n",
    "reg3=n-1\n",
    "reg4=n-1-k\n",
    "reg5=reg3/reg4\n",
    "reg6=reg5*reg2\n",
    "r2adj=1-reg6\n",
    "print(\"r^2adj=\")\n",
    "print(r2adj)"
   ]
  },
  {
   "cell_type": "code",
   "execution_count": 39,
   "metadata": {},
   "outputs": [],
   "source": [
    "# hypothesis"
   ]
  },
  {
   "cell_type": "code",
   "execution_count": 40,
   "metadata": {},
   "outputs": [
    {
     "name": "stdout",
     "output_type": "stream",
     "text": [
      "regression df=\n",
      "3\n",
      "error df=\n",
      "3\n",
      "total df=\n",
      "6\n"
     ]
    }
   ],
   "source": [
    "# F-test\n",
    "# DF\n",
    "dfr=k\n",
    "print(\"regression df=\")\n",
    "print(dfr)\n",
    "dfe=n-k-1\n",
    "print(\"error df=\")\n",
    "print(dfe)\n",
    "dft=n-1\n",
    "print(\"total df=\")\n",
    "print(dft)"
   ]
  },
  {
   "cell_type": "code",
   "execution_count": 41,
   "metadata": {},
   "outputs": [
    {
     "name": "stdout",
     "output_type": "stream",
     "text": [
      "rss=\n",
      "114974.7137901903\n",
      "ess=\n",
      "14625.286209809696\n",
      "tss=\n",
      "129600.0\n"
     ]
    }
   ],
   "source": [
    "# SS\n",
    "print(\"rss=\")\n",
    "print(rss)\n",
    "print(\"ess=\")\n",
    "print(ess)\n",
    "print(\"tss=\")\n",
    "print(tss)"
   ]
  },
  {
   "cell_type": "code",
   "execution_count": 42,
   "metadata": {},
   "outputs": [
    {
     "name": "stdout",
     "output_type": "stream",
     "text": [
      "regression ms=\n",
      "38324.9045967301\n",
      "error ms=\n",
      "4875.095403269898\n",
      "total ms=\n",
      "21600.0\n"
     ]
    }
   ],
   "source": [
    "# MS = ss/df\n",
    "msr=rss/dfr\n",
    "print(\"regression ms=\")\n",
    "print(msr)\n",
    "mse=ess/dfe\n",
    "print(\"error ms=\")\n",
    "print(mse)\n",
    "mst=tss/dft\n",
    "print(\"total ms=\")\n",
    "print(mst)"
   ]
  },
  {
   "cell_type": "code",
   "execution_count": 43,
   "metadata": {},
   "outputs": [
    {
     "name": "stdout",
     "output_type": "stream",
     "text": [
      "fcal=\n",
      "7.861365045497209\n"
     ]
    }
   ],
   "source": [
    "# Fcal = msr/mse\n",
    "fcal=msr/mse\n",
    "print(\"fcal=\")\n",
    "print(fcal)"
   ]
  },
  {
   "cell_type": "code",
   "execution_count": 45,
   "metadata": {},
   "outputs": [
    {
     "name": "stdout",
     "output_type": "stream",
     "text": [
      "f0.05(4,3)=9.117\n"
     ]
    }
   ],
   "source": [
    "# Ftab\n",
    "print(\"f0.05(4,3)=9.117\")"
   ]
  },
  {
   "cell_type": "code",
   "execution_count": 46,
   "metadata": {},
   "outputs": [],
   "source": [
    "# conclusion:\n",
    "# fcal > ftab"
   ]
  },
  {
   "cell_type": "code",
   "execution_count": 54,
   "metadata": {},
   "outputs": [
    {
     "ename": "NameError",
     "evalue": "name 'sb1' is not defined",
     "output_type": "error",
     "traceback": [
      "\u001b[1;31m---------------------------------------------------------------------------\u001b[0m",
      "\u001b[1;31mNameError\u001b[0m                                 Traceback (most recent call last)",
      "\u001b[1;32m<ipython-input-54-0400bc41a0f3>\u001b[0m in \u001b[0;36m<module>\u001b[1;34m()\u001b[0m\n\u001b[0;32m      6\u001b[0m \u001b[1;31m# t=b1 - B2 / sb1\u001b[0m\u001b[1;33m\u001b[0m\u001b[1;33m\u001b[0m\u001b[0m\n\u001b[0;32m      7\u001b[0m \u001b[0mbb\u001b[0m\u001b[1;33m=\u001b[0m\u001b[0mb1\u001b[0m\u001b[1;33m-\u001b[0m\u001b[0mB1\u001b[0m\u001b[1;33m\u001b[0m\u001b[0m\n\u001b[1;32m----> 8\u001b[1;33m \u001b[0mt\u001b[0m\u001b[1;33m=\u001b[0m\u001b[0mbb\u001b[0m\u001b[1;33m/\u001b[0m\u001b[0msb1\u001b[0m\u001b[1;33m\u001b[0m\u001b[0m\n\u001b[0m\u001b[0;32m      9\u001b[0m \u001b[0mprint\u001b[0m\u001b[1;33m(\u001b[0m\u001b[1;34m\"t=\"\u001b[0m\u001b[1;33m)\u001b[0m\u001b[1;33m\u001b[0m\u001b[0m\n\u001b[0;32m     10\u001b[0m \u001b[0mprint\u001b[0m\u001b[1;33m(\u001b[0m\u001b[0mt\u001b[0m\u001b[1;33m)\u001b[0m\u001b[1;33m\u001b[0m\u001b[0m\n",
      "\u001b[1;31mNameError\u001b[0m: name 'sb1' is not defined"
     ]
    }
   ],
   "source": [
    "# test of hypothesis for B1\n",
    "alpha=0.05\n",
    "B1=0\n",
    "\n",
    "# T-test\n",
    "# t=b1 - B2 / sb1\n",
    "bb=b1-B1\n",
    "t=bb/sb1\n",
    "print(\"t=\")\n",
    "print(t)\n",
    "\n",
    "# se = sse / n-2\n",
    "se=sse/n-2\n",
    "print(\"se=\")\n",
    "print(se**2)\n",
    "\n",
    "# sb1 = square root(se^2(sx2^2 / sx1^2 sx2^2 -(sx1x2)^2))\n",
    "sb1=0\n",
    "xx=cd*o\n",
    "xx1=u**2\n",
    "xx2=xx-xx1\n",
    "xx3=o/xx2\n",
    "sb1=se*xx3\n",
    "print(\"sb1=\")\n",
    "print(math.sqrt(sb1))\n",
    "\n",
    "# Ttab\n",
    "print(\"ttab=t0.025(3)=3.182\")"
   ]
  },
  {
   "cell_type": "code",
   "execution_count": 55,
   "metadata": {},
   "outputs": [
    {
     "ename": "NameError",
     "evalue": "name 'sb2' is not defined",
     "output_type": "error",
     "traceback": [
      "\u001b[1;31m---------------------------------------------------------------------------\u001b[0m",
      "\u001b[1;31mNameError\u001b[0m                                 Traceback (most recent call last)",
      "\u001b[1;32m<ipython-input-55-6a1a8f67973a>\u001b[0m in \u001b[0;36m<module>\u001b[1;34m()\u001b[0m\n\u001b[0;32m      5\u001b[0m \u001b[1;31m# T-test\u001b[0m\u001b[1;33m\u001b[0m\u001b[1;33m\u001b[0m\u001b[0m\n\u001b[0;32m      6\u001b[0m \u001b[1;31m# t = b2-B2/sb2\u001b[0m\u001b[1;33m\u001b[0m\u001b[1;33m\u001b[0m\u001b[0m\n\u001b[1;32m----> 7\u001b[1;33m \u001b[0mt\u001b[0m\u001b[1;33m=\u001b[0m\u001b[0mb2\u001b[0m\u001b[1;33m-\u001b[0m\u001b[0mB2\u001b[0m\u001b[1;33m/\u001b[0m\u001b[0msb2\u001b[0m\u001b[1;33m\u001b[0m\u001b[0m\n\u001b[0m\u001b[0;32m      8\u001b[0m \u001b[0mprint\u001b[0m\u001b[1;33m(\u001b[0m\u001b[1;34m\"t=\"\u001b[0m\u001b[1;33m)\u001b[0m\u001b[1;33m\u001b[0m\u001b[0m\n\u001b[0;32m      9\u001b[0m \u001b[0mprint\u001b[0m\u001b[1;33m(\u001b[0m\u001b[0mt\u001b[0m\u001b[1;33m)\u001b[0m\u001b[1;33m\u001b[0m\u001b[0m\n",
      "\u001b[1;31mNameError\u001b[0m: name 'sb2' is not defined"
     ]
    }
   ],
   "source": [
    "# test of hypothesis for B2\n",
    "alpha=0.05\n",
    "B2=0\n",
    "\n",
    "# T-test\n",
    "# t = b2-B2/sb2\n",
    "t=b2-B2/sb2\n",
    "print(\"t=\")\n",
    "print(t)\n",
    "\n",
    "# sb2 = square root(se^2(sx1^2 / sx1^2 sx2^2 -(sx1x2)^2))\n",
    "sb2=0\n",
    "xx4=cd/xx2\n",
    "sb2=se*xx4\n",
    "print(\"sb2=\")\n",
    "print(math.sqrt(sb2))\n",
    "\n",
    "# Ttab\n",
    "print(\"ttab=t0.025(3)=3.182\")"
   ]
  },
  {
   "cell_type": "code",
   "execution_count": 51,
   "metadata": {},
   "outputs": [],
   "source": [
    "# confidence interval"
   ]
  },
  {
   "cell_type": "code",
   "execution_count": 52,
   "metadata": {},
   "outputs": [
    {
     "ename": "NameError",
     "evalue": "name 'sb1' is not defined",
     "output_type": "error",
     "traceback": [
      "\u001b[1;31m---------------------------------------------------------------------------\u001b[0m",
      "\u001b[1;31mNameError\u001b[0m                                 Traceback (most recent call last)",
      "\u001b[1;32m<ipython-input-52-54482ee43dba>\u001b[0m in \u001b[0;36m<module>\u001b[1;34m()\u001b[0m\n\u001b[0;32m      1\u001b[0m \u001b[1;31m# B1 = b1 +- ttab (sb1)\u001b[0m\u001b[1;33m\u001b[0m\u001b[1;33m\u001b[0m\u001b[0m\n\u001b[1;32m----> 2\u001b[1;33m \u001b[0mB1c\u001b[0m\u001b[1;33m=\u001b[0m\u001b[0mb1\u001b[0m\u001b[1;33m+\u001b[0m\u001b[1;36m4.303\u001b[0m\u001b[1;33m*\u001b[0m\u001b[0msb1\u001b[0m\u001b[1;33m\u001b[0m\u001b[0m\n\u001b[0m\u001b[0;32m      3\u001b[0m \u001b[0mprint\u001b[0m\u001b[1;33m(\u001b[0m\u001b[1;34m\"c.i of B1=\"\u001b[0m\u001b[1;33m)\u001b[0m\u001b[1;33m\u001b[0m\u001b[0m\n\u001b[0;32m      4\u001b[0m \u001b[0mprint\u001b[0m\u001b[1;33m(\u001b[0m\u001b[0mB1c\u001b[0m\u001b[1;33m)\u001b[0m\u001b[1;33m\u001b[0m\u001b[0m\n\u001b[0;32m      5\u001b[0m \u001b[0mB1ci\u001b[0m\u001b[1;33m=\u001b[0m\u001b[0mb1\u001b[0m\u001b[1;33m-\u001b[0m\u001b[1;36m4.303\u001b[0m\u001b[1;33m*\u001b[0m\u001b[0msb1\u001b[0m\u001b[1;33m\u001b[0m\u001b[0m\n",
      "\u001b[1;31mNameError\u001b[0m: name 'sb1' is not defined"
     ]
    }
   ],
   "source": [
    "# B1 = b1 +- ttab (sb1)\n",
    "B1c=b1+4.303*sb1\n",
    "print(\"c.i of B1=\")\n",
    "print(B1c)\n",
    "B1ci=b1-4.303*sb1\n",
    "print(\"c.1 of B1=\")\n",
    "print(B1ci)"
   ]
  },
  {
   "cell_type": "code",
   "execution_count": 53,
   "metadata": {},
   "outputs": [
    {
     "ename": "NameError",
     "evalue": "name 'sb2' is not defined",
     "output_type": "error",
     "traceback": [
      "\u001b[1;31m---------------------------------------------------------------------------\u001b[0m",
      "\u001b[1;31mNameError\u001b[0m                                 Traceback (most recent call last)",
      "\u001b[1;32m<ipython-input-53-9b3b8e0b33f6>\u001b[0m in \u001b[0;36m<module>\u001b[1;34m()\u001b[0m\n\u001b[0;32m      1\u001b[0m \u001b[1;31m# B2 = b2 +- ttab (sb2)\u001b[0m\u001b[1;33m\u001b[0m\u001b[1;33m\u001b[0m\u001b[0m\n\u001b[1;32m----> 2\u001b[1;33m \u001b[0mB2c\u001b[0m\u001b[1;33m=\u001b[0m\u001b[0mb2\u001b[0m\u001b[1;33m+\u001b[0m\u001b[1;36m4.303\u001b[0m\u001b[1;33m*\u001b[0m\u001b[0msb2\u001b[0m\u001b[1;33m\u001b[0m\u001b[0m\n\u001b[0m\u001b[0;32m      3\u001b[0m \u001b[0mprint\u001b[0m\u001b[1;33m(\u001b[0m\u001b[1;34m\"c.i of B2=\"\u001b[0m\u001b[1;33m)\u001b[0m\u001b[1;33m\u001b[0m\u001b[0m\n\u001b[0;32m      4\u001b[0m \u001b[0mprint\u001b[0m\u001b[1;33m(\u001b[0m\u001b[0mB2c\u001b[0m\u001b[1;33m)\u001b[0m\u001b[1;33m\u001b[0m\u001b[0m\n\u001b[0;32m      5\u001b[0m \u001b[0mB2ci\u001b[0m\u001b[1;33m=\u001b[0m\u001b[0mb2\u001b[0m\u001b[1;33m-\u001b[0m\u001b[1;36m4.303\u001b[0m\u001b[1;33m*\u001b[0m\u001b[0msb2\u001b[0m\u001b[1;33m\u001b[0m\u001b[0m\n",
      "\u001b[1;31mNameError\u001b[0m: name 'sb2' is not defined"
     ]
    }
   ],
   "source": [
    "# B2 = b2 +- ttab (sb2)\n",
    "B2c=b2+4.303*sb2\n",
    "print(\"c.i of B2=\")\n",
    "print(B2c)\n",
    "B2ci=b2-4.303*sb2\n",
    "print(\"c.i of B2=\")\n",
    "print(B2ci)"
   ]
  }
 ],
 "metadata": {
  "kernelspec": {
   "display_name": "Python 3",
   "language": "python",
   "name": "python3"
  },
  "language_info": {
   "codemirror_mode": {
    "name": "ipython",
    "version": 3
   },
   "file_extension": ".py",
   "mimetype": "text/x-python",
   "name": "python",
   "nbconvert_exporter": "python",
   "pygments_lexer": "ipython3",
   "version": "3.6.5"
  }
 },
 "nbformat": 4,
 "nbformat_minor": 2
}
