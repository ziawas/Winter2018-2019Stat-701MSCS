{
 "cells": [
  {
   "cell_type": "code",
   "execution_count": 202,
   "metadata": {},
   "outputs": [
    {
     "name": "stdout",
     "output_type": "stream",
     "text": [
      "x1=\n",
      "[0, 0, 10, 10, 20, 20]\n",
      "x2=\n",
      "[0, 0, 100, 100, 400, 400]\n",
      "y=\n",
      "[5, 7, 15, 17, 9, 11]\n"
     ]
    }
   ],
   "source": [
    "import math \n",
    "x1=[0,0,10,10,20,20]\n",
    "print(\"x1=\")\n",
    "print(x1)\n",
    "x2=[0,0,100,100,400,400]\n",
    "print(\"x2=\")\n",
    "print(x2)\n",
    "y=[5,7,15,17,9,11]\n",
    "print(\"y=\")\n",
    "print(y)"
   ]
  },
  {
   "cell_type": "code",
   "execution_count": 103,
   "metadata": {},
   "outputs": [
    {
     "name": "stdout",
     "output_type": "stream",
     "text": [
      "sum of x1\n",
      "60\n"
     ]
    }
   ],
   "source": [
    "# sum of x1\n",
    "a=0\n",
    "for element in x1:\n",
    "    a=a+element\n",
    "print(\"sum of x1\")\n",
    "print(a)"
   ]
  },
  {
   "cell_type": "code",
   "execution_count": 141,
   "metadata": {},
   "outputs": [
    {
     "name": "stdout",
     "output_type": "stream",
     "text": [
      "mean of x1=\n",
      "10.0\n"
     ]
    }
   ],
   "source": [
    "# mean of x1\n",
    "n=6\n",
    "print(\"mean of x1=\")\n",
    "mx1=a/n\n",
    "print(mx1)"
   ]
  },
  {
   "cell_type": "code",
   "execution_count": 104,
   "metadata": {},
   "outputs": [
    {
     "name": "stdout",
     "output_type": "stream",
     "text": [
      "sum of x2=\n",
      "1000\n"
     ]
    }
   ],
   "source": [
    "# sum of x2\n",
    "b=0\n",
    "for element in x2:\n",
    "    b=b+element\n",
    "print(\"sum of x2=\")\n",
    "print(b)"
   ]
  },
  {
   "cell_type": "code",
   "execution_count": 142,
   "metadata": {},
   "outputs": [
    {
     "name": "stdout",
     "output_type": "stream",
     "text": [
      "mean of x2=\n",
      "166.66666666666666\n"
     ]
    }
   ],
   "source": [
    "# mean of x2\n",
    "n=6\n",
    "print(\"mean of x2=\")\n",
    "mx2=b/n\n",
    "print(mx2)"
   ]
  },
  {
   "cell_type": "code",
   "execution_count": 105,
   "metadata": {},
   "outputs": [
    {
     "name": "stdout",
     "output_type": "stream",
     "text": [
      "sum of y=\n",
      "64\n"
     ]
    }
   ],
   "source": [
    "# sum of y\n",
    "c=0\n",
    "for element in y:\n",
    "    c=c+element\n",
    "print(\"sum of y=\")\n",
    "print(c)"
   ]
  },
  {
   "cell_type": "code",
   "execution_count": 143,
   "metadata": {},
   "outputs": [
    {
     "name": "stdout",
     "output_type": "stream",
     "text": [
      "mean of y=\n",
      "10.666666666666666\n"
     ]
    }
   ],
   "source": [
    "# mean of y\n",
    "n=6\n",
    "print(\"mean of y=\")\n",
    "my=c/n\n",
    "print(my)"
   ]
  },
  {
   "cell_type": "code",
   "execution_count": 107,
   "metadata": {},
   "outputs": [
    {
     "name": "stdout",
     "output_type": "stream",
     "text": [
      "square of x1=\n",
      "1000\n"
     ]
    }
   ],
   "source": [
    "# square of x1\n",
    "d=0\n",
    "for element in x1:\n",
    "    d=d+element**2\n",
    "print(\"square of x1=\")\n",
    "print(d)"
   ]
  },
  {
   "cell_type": "code",
   "execution_count": 108,
   "metadata": {},
   "outputs": [
    {
     "name": "stdout",
     "output_type": "stream",
     "text": [
      "square of x2=\n",
      "340000\n"
     ]
    }
   ],
   "source": [
    "# square of x2\n",
    "e=0\n",
    "for element in x2:\n",
    "    e=e+element**2\n",
    "print(\"square of x2=\")\n",
    "print(e)"
   ]
  },
  {
   "cell_type": "code",
   "execution_count": 109,
   "metadata": {},
   "outputs": [
    {
     "name": "stdout",
     "output_type": "stream",
     "text": [
      "square of y=\n",
      "790\n"
     ]
    }
   ],
   "source": [
    "# sqaure of y\n",
    "f=0\n",
    "for element in y:\n",
    "    f=f+element**2\n",
    "print(\"square of y=\")\n",
    "print(f)"
   ]
  },
  {
   "cell_type": "code",
   "execution_count": 110,
   "metadata": {},
   "outputs": [
    {
     "name": "stdout",
     "output_type": "stream",
     "text": [
      "x1x2=\n",
      "18000\n"
     ]
    }
   ],
   "source": [
    "# find x1x2\n",
    "g=0\n",
    "i=0\n",
    "for element in x1:\n",
    "    g=g+element*x2[i]\n",
    "    i+=1\n",
    "print(\"x1x2=\")\n",
    "print(g)"
   ]
  },
  {
   "cell_type": "code",
   "execution_count": 111,
   "metadata": {},
   "outputs": [
    {
     "name": "stdout",
     "output_type": "stream",
     "text": [
      "x1^2 x2^2=\n",
      "130000000\n"
     ]
    }
   ],
   "source": [
    "# find x1^2x2^2\n",
    "h=0\n",
    "i=0\n",
    "for element in x2:\n",
    "    h=h+element**2*(x1[i])**2\n",
    "    i+=1\n",
    "print(\"x1^2 x2^2=\")\n",
    "print(h)"
   ]
  },
  {
   "cell_type": "code",
   "execution_count": 112,
   "metadata": {},
   "outputs": [
    {
     "name": "stdout",
     "output_type": "stream",
     "text": [
      "x1y=\n",
      "720\n"
     ]
    }
   ],
   "source": [
    "# find x1y\n",
    "j=0\n",
    "i=0\n",
    "for element in x1:\n",
    "    j=j+element*y[i]\n",
    "    i+=1\n",
    "print(\"x1y=\")\n",
    "print(j)"
   ]
  },
  {
   "cell_type": "code",
   "execution_count": 113,
   "metadata": {},
   "outputs": [
    {
     "name": "stdout",
     "output_type": "stream",
     "text": [
      "x2y=\n",
      "11200\n"
     ]
    }
   ],
   "source": [
    "# find x2y\n",
    "k=0\n",
    "i=0\n",
    "for element in x2:\n",
    "    k=k+element*y[i]\n",
    "    i+=1\n",
    "print(\"x2y=\")\n",
    "print(k)"
   ]
  },
  {
   "cell_type": "code",
   "execution_count": 114,
   "metadata": {},
   "outputs": [],
   "source": [
    "# b1 = sx2 sx1y - sx1x2 sx2y / sx1^2 sx2^2 - (sx1x2)^2"
   ]
  },
  {
   "cell_type": "code",
   "execution_count": 148,
   "metadata": {},
   "outputs": [
    {
     "name": "stdout",
     "output_type": "stream",
     "text": [
      "(mean of x2)^2=\n",
      "27777.777777777774\n",
      "n-(mean of x2)^2=\n",
      "166666.66666666663\n",
      "sx2^2 = x2^2 - n(mean of x2)^2 =\n",
      "173333.33333333337\n"
     ]
    }
   ],
   "source": [
    "# sx2^2 = x2^2 - n(mean of x2)^2\n",
    "l=(b/n)**2\n",
    "print(\"(mean of x2)^2=\")\n",
    "print(l)\n",
    "m=n*l\n",
    "print(\"n-(mean of x2)^2=\")\n",
    "print(m)\n",
    "o=e-m\n",
    "print(\"sx2^2 = x2^2 - n(mean of x2)^2 =\")\n",
    "print(o)"
   ]
  },
  {
   "cell_type": "code",
   "execution_count": 151,
   "metadata": {},
   "outputs": [
    {
     "name": "stdout",
     "output_type": "stream",
     "text": [
      "(mean of x1)(mean of y)=\n",
      "106.66666666666666\n",
      "n(mean of x1)(mean of y)=\n",
      "640.0\n",
      "sx1y = x1y - n(mean of x1)(mean of y) =\n",
      "80.0\n"
     ]
    }
   ],
   "source": [
    "# sx1y = x1y - n(mean of x1)(mean of y)\n",
    "p=(mx1*my)\n",
    "print(\"(mean of x1)(mean of y)=\")\n",
    "print(p)\n",
    "q=n*p\n",
    "print(\"n(mean of x1)(mean of y)=\")\n",
    "print(q)\n",
    "r=j-q\n",
    "print(\"sx1y = x1y - n(mean of x1)(mean of y) =\")\n",
    "print(r)"
   ]
  },
  {
   "cell_type": "code",
   "execution_count": 155,
   "metadata": {},
   "outputs": [
    {
     "name": "stdout",
     "output_type": "stream",
     "text": [
      "(mean of x1)(mean of x2)=\n",
      "1666.6666666666665\n",
      "n(mean of x1)(mean of x2)=\n",
      "10000.0\n",
      "sx1x2 = x1x2 - n(mean of x1)(mean of x2)=\n",
      "8000.0\n"
     ]
    }
   ],
   "source": [
    "# sx1x2 = x1x2 - n(mean of x1)(mean of x2)\n",
    "s=mx1*mx2\n",
    "print(\"(mean of x1)(mean of x2)=\")\n",
    "print(s)\n",
    "t=n*s\n",
    "print(\"n(mean of x1)(mean of x2)=\")\n",
    "print(t)\n",
    "u=g-t\n",
    "print(\"sx1x2 = x1x2 - n(mean of x1)(mean of x2)=\")\n",
    "print(u)"
   ]
  },
  {
   "cell_type": "code",
   "execution_count": 158,
   "metadata": {},
   "outputs": [
    {
     "name": "stdout",
     "output_type": "stream",
     "text": [
      "(mean of x2)(mean of y)=\n",
      "1777.7777777777776\n",
      "n(mean of x2)(mean of y)=\n",
      "10666.666666666666\n",
      "sx2y = x2y - n(mean of x2)(mean of y)=\n",
      "533.3333333333339\n"
     ]
    }
   ],
   "source": [
    "# sx2y = x2y - n(mean of x2)(mean of y)\n",
    "w=mx2*my\n",
    "print(\"(mean of x2)(mean of y)=\")\n",
    "print(w)\n",
    "y=n*w\n",
    "print(\"n(mean of x2)(mean of y)=\")\n",
    "print(y)\n",
    "z=k-y\n",
    "print(\"sx2y = x2y - n(mean of x2)(mean of y)=\")\n",
    "print(z)"
   ]
  },
  {
   "cell_type": "code",
   "execution_count": 161,
   "metadata": {},
   "outputs": [
    {
     "name": "stdout",
     "output_type": "stream",
     "text": [
      "(mean of x1)^2=\n",
      "100.0\n",
      "n(mean of x1)^2\n",
      "600.0\n",
      "sx1^2 = x1^2 - n(mean of x1)^2=\n",
      "400.0\n"
     ]
    }
   ],
   "source": [
    "# sx1^2 = x1^2 - n(mean of x1)^2\n",
    "ab=mx1**2\n",
    "print(\"(mean of x1)^2=\")\n",
    "print(ab)\n",
    "bc=n*ab\n",
    "print(\"n(mean of x1)^2\")\n",
    "print(bc)\n",
    "cd=d-bc\n",
    "print(\"sx1^2 = x1^2 - n(mean of x1)^2=\")\n",
    "print(cd)"
   ]
  },
  {
   "cell_type": "code",
   "execution_count": 169,
   "metadata": {},
   "outputs": [
    {
     "name": "stdout",
     "output_type": "stream",
     "text": [
      "b1=\n",
      "0.03478260869565217\n"
     ]
    }
   ],
   "source": [
    "# find b1\n",
    "de=o*r\n",
    "ef=u*z\n",
    "fg=de-ef\n",
    "gh=d*e\n",
    "hi=u**2\n",
    "ij=gh-hi\n",
    "b1=fg/ij\n",
    "print(\"b1=\")\n",
    "print(b1)"
   ]
  },
  {
   "cell_type": "code",
   "execution_count": 163,
   "metadata": {},
   "outputs": [],
   "source": [
    "# b2 = sx1^2 sx2y - sx1x2 sx1y / sx1^2 sx2^2 - [sx1x2]^2"
   ]
  },
  {
   "cell_type": "code",
   "execution_count": 168,
   "metadata": {},
   "outputs": [
    {
     "name": "stdout",
     "output_type": "stream",
     "text": [
      "b2=\n",
      "-0.0003864734299516886\n"
     ]
    }
   ],
   "source": [
    "# find b2\n",
    "kl=d*z\n",
    "lm=u*r\n",
    "mn=kl-lm\n",
    "no=d*e\n",
    "op=u**2\n",
    "pu=no-op\n",
    "b2=mn/pu\n",
    "print(\"b2=\")\n",
    "print(b2)"
   ]
  },
  {
   "cell_type": "code",
   "execution_count": 165,
   "metadata": {},
   "outputs": [],
   "source": [
    "# b0 = (mean of y)-b1(mean of x1)-b2(mean of x2)"
   ]
  },
  {
   "cell_type": "code",
   "execution_count": 220,
   "metadata": {},
   "outputs": [
    {
     "name": "stdout",
     "output_type": "stream",
     "text": [
      "b0=\n",
      "10.383252818035427\n"
     ]
    }
   ],
   "source": [
    "# find b0\n",
    "bx=b1*mx1\n",
    "bx2=b2*mx2\n",
    "b0=my-bx-bx2\n",
    "print(\"b0=\")\n",
    "print(b0)"
   ]
  },
  {
   "cell_type": "code",
   "execution_count": 167,
   "metadata": {},
   "outputs": [],
   "source": [
    "# y^ = b0+b1x1+b2x2"
   ]
  },
  {
   "cell_type": "code",
   "execution_count": 173,
   "metadata": {},
   "outputs": [
    {
     "name": "stdout",
     "output_type": "stream",
     "text": [
      "y^=\n",
      "10.383252818035427\n",
      "+\n",
      "0.03478260869565217\n",
      "x1\n",
      "+\n",
      "-0.0003864734299516886\n",
      "x2\n"
     ]
    }
   ],
   "source": [
    "# find y^\n",
    "print(\"y^=\")\n",
    "print(b0)\n",
    "print(\"+\")\n",
    "print(b1)\n",
    "print(\"x1\")\n",
    "print(\"+\")\n",
    "print(b2)\n",
    "print(\"x2\")"
   ]
  },
  {
   "cell_type": "code",
   "execution_count": 177,
   "metadata": {},
   "outputs": [
    {
     "name": "stdout",
     "output_type": "stream",
     "text": [
      "y^=\n",
      "12.083735909822867\n"
     ]
    }
   ],
   "source": [
    "b1x=b1*a\n",
    "b2x=b2*b\n",
    "yb=b0+b1x+b2x\n",
    "print(\"y^=\")\n",
    "print(yb)"
   ]
  },
  {
   "cell_type": "code",
   "execution_count": 174,
   "metadata": {},
   "outputs": [],
   "source": [
    "# coefficient"
   ]
  },
  {
   "cell_type": "code",
   "execution_count": 181,
   "metadata": {},
   "outputs": [
    {
     "name": "stdout",
     "output_type": "stream",
     "text": [
      "tss=\n",
      "2844.444444444445\n"
     ]
    }
   ],
   "source": [
    "# tss = (y - mean of y)^2\n",
    "m2=c-my\n",
    "tss=m2**2\n",
    "print(\"tss=\")\n",
    "print(tss)"
   ]
  },
  {
   "cell_type": "code",
   "execution_count": 178,
   "metadata": {},
   "outputs": [
    {
     "name": "stdout",
     "output_type": "stream",
     "text": [
      "rss=\n",
      "2695.2984770810144\n"
     ]
    }
   ],
   "source": [
    "# rss = (y-y^)^2\n",
    "# rss = (y-b0-b1x1-b2x2)^2\n",
    "ss=c-b0-b1x-b2x\n",
    "rss=ss**2\n",
    "print(\"rss=\")\n",
    "print(rss)"
   ]
  },
  {
   "cell_type": "code",
   "execution_count": 182,
   "metadata": {},
   "outputs": [
    {
     "name": "stdout",
     "output_type": "stream",
     "text": [
      "mss=\n",
      "2.0080852398992874\n"
     ]
    }
   ],
   "source": [
    "# mss = (y^ - mean of y)^2\n",
    "model=yb-my\n",
    "mss=model**2\n",
    "print(\"mss=\")\n",
    "print(mss)"
   ]
  },
  {
   "cell_type": "code",
   "execution_count": 190,
   "metadata": {},
   "outputs": [
    {
     "name": "stdout",
     "output_type": "stream",
     "text": [
      "ess=\n",
      "149.14596736343037\n"
     ]
    }
   ],
   "source": [
    "# sse = tss - rss\n",
    "ess=tss-rss\n",
    "print(\"ess=\")\n",
    "print(ess)"
   ]
  },
  {
   "cell_type": "code",
   "execution_count": 183,
   "metadata": {},
   "outputs": [
    {
     "name": "stdout",
     "output_type": "stream",
     "text": [
      "r^2=\n",
      "0.07059674671520931\n"
     ]
    }
   ],
   "source": [
    "# r^2 = rss / tss *100\n",
    "r2=(mss/tss)*100\n",
    "print(\"r^2=\")\n",
    "print(r2)"
   ]
  },
  {
   "cell_type": "code",
   "execution_count": 184,
   "metadata": {},
   "outputs": [
    {
     "name": "stdout",
     "output_type": "stream",
     "text": [
      "r^2adj=\n",
      "-1.323508133211977\n"
     ]
    }
   ],
   "source": [
    "# r^2adj = 1-(n-1/n-1-k)(1-r^2)\n",
    "k=3\n",
    "reg2=1-r2\n",
    "reg3=n-1\n",
    "reg4=n-1-k\n",
    "reg5=reg3/reg4\n",
    "reg6=reg5*reg2\n",
    "r2adj=1-reg6\n",
    "print(\"r^2adj=\")\n",
    "print(r2adj)"
   ]
  },
  {
   "cell_type": "code",
   "execution_count": 186,
   "metadata": {},
   "outputs": [],
   "source": [
    "# hypothesis"
   ]
  },
  {
   "cell_type": "code",
   "execution_count": 189,
   "metadata": {},
   "outputs": [
    {
     "name": "stdout",
     "output_type": "stream",
     "text": [
      "regression df=\n",
      "3\n",
      "error df=\n",
      "2\n",
      "total df=\n",
      "5\n"
     ]
    }
   ],
   "source": [
    "# F-test\n",
    "# DF\n",
    "dfr=k\n",
    "print(\"regression df=\")\n",
    "print(dfr)\n",
    "dfe=n-k-1\n",
    "print(\"error df=\")\n",
    "print(dfe)\n",
    "dft=n-1\n",
    "print(\"total df=\")\n",
    "print(dft)"
   ]
  },
  {
   "cell_type": "code",
   "execution_count": 191,
   "metadata": {},
   "outputs": [
    {
     "name": "stdout",
     "output_type": "stream",
     "text": [
      "rss=\n",
      "2695.2984770810144\n",
      "ess=\n",
      "149.14596736343037\n",
      "tss=\n",
      "2844.444444444445\n"
     ]
    }
   ],
   "source": [
    "# SS\n",
    "print(\"rss=\")\n",
    "print(rss)\n",
    "print(\"ess=\")\n",
    "print(ess)\n",
    "print(\"tss=\")\n",
    "print(tss)"
   ]
  },
  {
   "cell_type": "code",
   "execution_count": 192,
   "metadata": {},
   "outputs": [
    {
     "name": "stdout",
     "output_type": "stream",
     "text": [
      "regression ms=\n",
      "898.4328256936715\n",
      "error ms=\n",
      "74.57298368171519\n",
      "total ms=\n",
      "568.8888888888889\n"
     ]
    }
   ],
   "source": [
    "# MS = ss/df\n",
    "msr=rss/dfr\n",
    "print(\"regression ms=\")\n",
    "print(msr)\n",
    "mse=ess/dfe\n",
    "print(\"error ms=\")\n",
    "print(mse)\n",
    "mst=tss/dft\n",
    "print(\"total ms=\")\n",
    "print(mst)"
   ]
  },
  {
   "cell_type": "code",
   "execution_count": 193,
   "metadata": {},
   "outputs": [
    {
     "name": "stdout",
     "output_type": "stream",
     "text": [
      "fcal=\n",
      "12.047698527502547\n"
     ]
    }
   ],
   "source": [
    "# Fcal = msr/mse\n",
    "fcal=msr/mse\n",
    "print(\"fcal=\")\n",
    "print(fcal)"
   ]
  },
  {
   "cell_type": "code",
   "execution_count": 195,
   "metadata": {},
   "outputs": [
    {
     "name": "stdout",
     "output_type": "stream",
     "text": [
      "f0.05(3,2)=9.552\n"
     ]
    }
   ],
   "source": [
    "# Ftab\n",
    "print(\"f0.05(3,2)=9.552\")"
   ]
  },
  {
   "cell_type": "code",
   "execution_count": 197,
   "metadata": {},
   "outputs": [],
   "source": [
    "# conclusion:\n",
    "# fcal > ftab"
   ]
  },
  {
   "cell_type": "code",
   "execution_count": 212,
   "metadata": {},
   "outputs": [
    {
     "name": "stdout",
     "output_type": "stream",
     "text": [
      "t=\n",
      "0.04682168062045774\n",
      "se=\n",
      "522.4726767791975\n",
      "sb1=\n",
      "0.8619013806029356\n",
      "ttab=t0.025(2)=4.303\n"
     ]
    }
   ],
   "source": [
    "# test of hypothesis for B1\n",
    "alpha=0.05\n",
    "B1=0\n",
    "\n",
    "# T-test\n",
    "# t=b1 - B2 / sb1\n",
    "bb=b1-B1\n",
    "t=bb/sb1\n",
    "print(\"t=\")\n",
    "print(t)\n",
    "\n",
    "# se = sse / n-2\n",
    "se=sse/n-2\n",
    "print(\"se=\")\n",
    "print(se**2)\n",
    "\n",
    "# sb1 = square root(se^2(sx2^2 / sx1^2 sx2^2 -(sx1x2)^2))\n",
    "xx=cd*o\n",
    "xx1=u**2\n",
    "xx2=xx-xx1\n",
    "xx3=o/xx2\n",
    "sb1=se*xx3\n",
    "print(\"sb1=\")\n",
    "print(math.sqrt(sb1))\n",
    "\n",
    "# Ttab\n",
    "print(\"ttab=t0.025(2)=4.303\")"
   ]
  },
  {
   "cell_type": "code",
   "execution_count": 219,
   "metadata": {},
   "outputs": [
    {
     "name": "stdout",
     "output_type": "stream",
     "text": [
      "t=\n",
      "-0.0003864734299516886\n",
      "sb2=\n",
      "0.04140440305140115\n",
      "ttab=t0.025(2)=4.303\n"
     ]
    }
   ],
   "source": [
    "# test of hypothesis for B2\n",
    "alpha=0.05\n",
    "B2=0\n",
    "\n",
    "# T-test\n",
    "# t = b2-B2/sb2\n",
    "t=b2-B2/sb2\n",
    "print(\"t=\")\n",
    "print(t)\n",
    "\n",
    "# sb2 = square root(se^2(sx1^2 / sx1^2 sx2^2 -(sx1x2)^2))\n",
    "xx4=cd/xx2\n",
    "sb2=se*xx4\n",
    "print(\"sb2=\")\n",
    "print(math.sqrt(sb2))\n",
    "\n",
    "# Ttab\n",
    "print(\"ttab=t0.025(2)=4.303\")"
   ]
  },
  {
   "cell_type": "code",
   "execution_count": 216,
   "metadata": {},
   "outputs": [],
   "source": [
    "# confidence interval"
   ]
  },
  {
   "cell_type": "code",
   "execution_count": 217,
   "metadata": {},
   "outputs": [
    {
     "name": "stdout",
     "output_type": "stream",
     "text": [
      "c.i of B1=\n",
      "3.231369387171868\n",
      "c.1 of B1=\n",
      "-3.161804169780564\n"
     ]
    }
   ],
   "source": [
    "# B1 = b1 +- ttab (sb1)\n",
    "B1c=b1+4.303*sb1\n",
    "print(\"c.i of B1=\")\n",
    "print(B1c)\n",
    "B1ci=b1-4.303*sb1\n",
    "print(\"c.1 of B1=\")\n",
    "print(B1ci)"
   ]
  },
  {
   "cell_type": "code",
   "execution_count": 218,
   "metadata": {},
   "outputs": [
    {
     "name": "stdout",
     "output_type": "stream",
     "text": [
      "c.i of B2=\n",
      "0.006990265289608808\n",
      "c.i of B2=\n",
      "-0.007763212149512186\n"
     ]
    }
   ],
   "source": [
    "# B2 = b2 +- ttab (sb2)\n",
    "B2c=b2+4.303*sb2\n",
    "print(\"c.i of B2=\")\n",
    "print(B2c)\n",
    "B2ci=b2-4.303*sb2\n",
    "print(\"c.i of B2=\")\n",
    "print(B2ci)"
   ]
  }
 ],
 "metadata": {
  "kernelspec": {
   "display_name": "Python 3",
   "language": "python",
   "name": "python3"
  },
  "language_info": {
   "codemirror_mode": {
    "name": "ipython",
    "version": 3
   },
   "file_extension": ".py",
   "mimetype": "text/x-python",
   "name": "python",
   "nbconvert_exporter": "python",
   "pygments_lexer": "ipython3",
   "version": "3.6.5"
  }
 },
 "nbformat": 4,
 "nbformat_minor": 2
}
